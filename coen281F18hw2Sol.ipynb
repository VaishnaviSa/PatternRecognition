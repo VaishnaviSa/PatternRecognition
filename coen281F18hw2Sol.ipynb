{
 "cells": [
  {
   "cell_type": "markdown",
   "metadata": {},
   "source": [
    "# Homework 2  (Due: 10/15/2018)\n",
    "\n",
    "COEN 281, Fall 2018  \n",
    "Professor Marwah\n",
    "\n",
    "---"
   ]
  },
  {
   "cell_type": "markdown",
   "metadata": {},
   "source": [
    "The objective of this HW is to implement k-NN and cross-validation to find the best value of $k$ for a binary classification task. The task to diagnose breast cancer based on 30 numeric features. However, to keep things simple, we will only use two of those features. The output is binary: 0 benign, 1 malignant. In all there are 569 examples, which we will split into training and test sets. There are no missing values. "
   ]
  },
  {
   "cell_type": "code",
   "execution_count": 1,
   "metadata": {},
   "outputs": [],
   "source": [
    "# load the data set\n",
    "import numpy as np\n",
    "import pandas as pd\n",
    "import sklearn.datasets\n",
    "dat = sklearn.datasets.load_breast_cancer()"
   ]
  },
  {
   "cell_type": "code",
   "execution_count": 2,
   "metadata": {},
   "outputs": [
    {
     "name": "stdout",
     "output_type": "stream",
     "text": [
      "['mean radius' 'mean texture' 'mean perimeter' 'mean area'\n",
      " 'mean smoothness' 'mean compactness' 'mean concavity'\n",
      " 'mean concave points' 'mean symmetry' 'mean fractal dimension'\n",
      " 'radius error' 'texture error' 'perimeter error' 'area error'\n",
      " 'smoothness error' 'compactness error' 'concavity error'\n",
      " 'concave points error' 'symmetry error' 'fractal dimension error'\n",
      " 'worst radius' 'worst texture' 'worst perimeter' 'worst area'\n",
      " 'worst smoothness' 'worst compactness' 'worst concavity'\n",
      " 'worst concave points' 'worst symmetry' 'worst fractal dimension']\n"
     ]
    }
   ],
   "source": [
    "print(dat.feature_names)"
   ]
  },
  {
   "cell_type": "code",
   "execution_count": 3,
   "metadata": {},
   "outputs": [
    {
     "name": "stdout",
     "output_type": "stream",
     "text": [
      "['malignant' 'benign']\n"
     ]
    }
   ],
   "source": [
    "print(dat.target_names)"
   ]
  },
  {
   "cell_type": "code",
   "execution_count": 4,
   "metadata": {},
   "outputs": [
    {
     "name": "stdout",
     "output_type": "stream",
     "text": [
      "Breast Cancer Wisconsin (Diagnostic) Database\n",
      "=============================================\n",
      "\n",
      "Notes\n",
      "-----\n",
      "Data Set Characteristics:\n",
      "    :Number of Instances: 569\n",
      "\n",
      "    :Number of Attributes: 30 numeric, predictive attributes and the class\n",
      "\n",
      "    :Attribute Information:\n",
      "        - radius (mean of distances from center to points on the perimeter)\n",
      "        - texture (standard deviation of gray-scale values)\n",
      "        - perimeter\n",
      "        - area\n",
      "        - smoothness (local variation in radius lengths)\n",
      "        - compactness (perimeter^2 / area - 1.0)\n",
      "        - concavity (severity of concave portions of the contour)\n",
      "        - concave points (number of concave portions of the contour)\n",
      "        - symmetry \n",
      "        - fractal dimension (\"coastline approximation\" - 1)\n",
      "\n",
      "        The mean, standard error, and \"worst\" or largest (mean of the three\n",
      "        largest values) of these features were computed for each image,\n",
      "        resulting in 30 features.  For instance, field 3 is Mean Radius, field\n",
      "        13 is Radius SE, field 23 is Worst Radius.\n",
      "\n",
      "        - class:\n",
      "                - WDBC-Malignant\n",
      "                - WDBC-Benign\n",
      "\n",
      "    :Summary Statistics:\n",
      "\n",
      "    ===================================== ====== ======\n",
      "                                           Min    Max\n",
      "    ===================================== ====== ======\n",
      "    radius (mean):                        6.981  28.11\n",
      "    texture (mean):                       9.71   39.28\n",
      "    perimeter (mean):                     43.79  188.5\n",
      "    area (mean):                          143.5  2501.0\n",
      "    smoothness (mean):                    0.053  0.163\n",
      "    compactness (mean):                   0.019  0.345\n",
      "    concavity (mean):                     0.0    0.427\n",
      "    concave points (mean):                0.0    0.201\n",
      "    symmetry (mean):                      0.106  0.304\n",
      "    fractal dimension (mean):             0.05   0.097\n",
      "    radius (standard error):              0.112  2.873\n",
      "    texture (standard error):             0.36   4.885\n",
      "    perimeter (standard error):           0.757  21.98\n",
      "    area (standard error):                6.802  542.2\n",
      "    smoothness (standard error):          0.002  0.031\n",
      "    compactness (standard error):         0.002  0.135\n",
      "    concavity (standard error):           0.0    0.396\n",
      "    concave points (standard error):      0.0    0.053\n",
      "    symmetry (standard error):            0.008  0.079\n",
      "    fractal dimension (standard error):   0.001  0.03\n",
      "    radius (worst):                       7.93   36.04\n",
      "    texture (worst):                      12.02  49.54\n",
      "    perimeter (worst):                    50.41  251.2\n",
      "    area (worst):                         185.2  4254.0\n",
      "    smoothness (worst):                   0.071  0.223\n",
      "    compactness (worst):                  0.027  1.058\n",
      "    concavity (worst):                    0.0    1.252\n",
      "    concave points (worst):               0.0    0.291\n",
      "    symmetry (worst):                     0.156  0.664\n",
      "    fractal dimension (worst):            0.055  0.208\n",
      "    ===================================== ====== ======\n",
      "\n",
      "    :Missing Attribute Values: None\n",
      "\n",
      "    :Class Distribution: 212 - Malignant, 357 - Benign\n",
      "\n",
      "    :Creator:  Dr. William H. Wolberg, W. Nick Street, Olvi L. Mangasarian\n",
      "\n",
      "    :Donor: Nick Street\n",
      "\n",
      "    :Date: November, 1995\n",
      "\n",
      "This is a copy of UCI ML Breast Cancer Wisconsin (Diagnostic) datasets.\n",
      "https://goo.gl/U2Uwz2\n",
      "\n",
      "Features are computed from a digitized image of a fine needle\n",
      "aspirate (FNA) of a breast mass.  They describe\n",
      "characteristics of the cell nuclei present in the image.\n",
      "\n",
      "Separating plane described above was obtained using\n",
      "Multisurface Method-Tree (MSM-T) [K. P. Bennett, \"Decision Tree\n",
      "Construction Via Linear Programming.\" Proceedings of the 4th\n",
      "Midwest Artificial Intelligence and Cognitive Science Society,\n",
      "pp. 97-101, 1992], a classification method which uses linear\n",
      "programming to construct a decision tree.  Relevant features\n",
      "were selected using an exhaustive search in the space of 1-4\n",
      "features and 1-3 separating planes.\n",
      "\n",
      "The actual linear program used to obtain the separating plane\n",
      "in the 3-dimensional space is that described in:\n",
      "[K. P. Bennett and O. L. Mangasarian: \"Robust Linear\n",
      "Programming Discrimination of Two Linearly Inseparable Sets\",\n",
      "Optimization Methods and Software 1, 1992, 23-34].\n",
      "\n",
      "This database is also available through the UW CS ftp server:\n",
      "\n",
      "ftp ftp.cs.wisc.edu\n",
      "cd math-prog/cpo-dataset/machine-learn/WDBC/\n",
      "\n",
      "References\n",
      "----------\n",
      "   - W.N. Street, W.H. Wolberg and O.L. Mangasarian. Nuclear feature extraction \n",
      "     for breast tumor diagnosis. IS&T/SPIE 1993 International Symposium on \n",
      "     Electronic Imaging: Science and Technology, volume 1905, pages 861-870,\n",
      "     San Jose, CA, 1993.\n",
      "   - O.L. Mangasarian, W.N. Street and W.H. Wolberg. Breast cancer diagnosis and \n",
      "     prognosis via linear programming. Operations Research, 43(4), pages 570-577, \n",
      "     July-August 1995.\n",
      "   - W.H. Wolberg, W.N. Street, and O.L. Mangasarian. Machine learning techniques\n",
      "     to diagnose breast cancer from fine-needle aspirates. Cancer Letters 77 (1994) \n",
      "     163-171.\n",
      "\n"
     ]
    }
   ],
   "source": [
    "# uncomment the following and run it to get a description of the data set\n",
    "print(dat.DESCR)"
   ]
  },
  {
   "cell_type": "code",
   "execution_count": 5,
   "metadata": {},
   "outputs": [
    {
     "data": {
      "text/plain": [
       "dict_keys(['data', 'target', 'target_names', 'DESCR', 'feature_names'])"
      ]
     },
     "execution_count": 5,
     "metadata": {},
     "output_type": "execute_result"
    }
   ],
   "source": [
    "# dat is a dictionary with the data, let's see what keys it has\n",
    "dat.keys()"
   ]
  },
  {
   "cell_type": "code",
   "execution_count": 6,
   "metadata": {},
   "outputs": [
    {
     "name": "stdout",
     "output_type": "stream",
     "text": [
      "(569, 30)\n"
     ]
    }
   ],
   "source": [
    "print(dat.data.shape)"
   ]
  },
  {
   "cell_type": "code",
   "execution_count": 7,
   "metadata": {},
   "outputs": [
    {
     "data": {
      "text/html": [
       "<div>\n",
       "<style scoped>\n",
       "    .dataframe tbody tr th:only-of-type {\n",
       "        vertical-align: middle;\n",
       "    }\n",
       "\n",
       "    .dataframe tbody tr th {\n",
       "        vertical-align: top;\n",
       "    }\n",
       "\n",
       "    .dataframe thead th {\n",
       "        text-align: right;\n",
       "    }\n",
       "</style>\n",
       "<table border=\"1\" class=\"dataframe\">\n",
       "  <thead>\n",
       "    <tr style=\"text-align: right;\">\n",
       "      <th></th>\n",
       "      <th>mean radius</th>\n",
       "      <th>mean texture</th>\n",
       "      <th>mean perimeter</th>\n",
       "      <th>mean area</th>\n",
       "      <th>mean smoothness</th>\n",
       "      <th>mean compactness</th>\n",
       "      <th>mean concavity</th>\n",
       "      <th>mean concave points</th>\n",
       "      <th>mean symmetry</th>\n",
       "      <th>mean fractal dimension</th>\n",
       "      <th>...</th>\n",
       "      <th>worst radius</th>\n",
       "      <th>worst texture</th>\n",
       "      <th>worst perimeter</th>\n",
       "      <th>worst area</th>\n",
       "      <th>worst smoothness</th>\n",
       "      <th>worst compactness</th>\n",
       "      <th>worst concavity</th>\n",
       "      <th>worst concave points</th>\n",
       "      <th>worst symmetry</th>\n",
       "      <th>worst fractal dimension</th>\n",
       "    </tr>\n",
       "  </thead>\n",
       "  <tbody>\n",
       "    <tr>\n",
       "      <th>0</th>\n",
       "      <td>17.99</td>\n",
       "      <td>10.38</td>\n",
       "      <td>122.80</td>\n",
       "      <td>1001.0</td>\n",
       "      <td>0.11840</td>\n",
       "      <td>0.27760</td>\n",
       "      <td>0.3001</td>\n",
       "      <td>0.14710</td>\n",
       "      <td>0.2419</td>\n",
       "      <td>0.07871</td>\n",
       "      <td>...</td>\n",
       "      <td>25.38</td>\n",
       "      <td>17.33</td>\n",
       "      <td>184.60</td>\n",
       "      <td>2019.0</td>\n",
       "      <td>0.1622</td>\n",
       "      <td>0.6656</td>\n",
       "      <td>0.7119</td>\n",
       "      <td>0.2654</td>\n",
       "      <td>0.4601</td>\n",
       "      <td>0.11890</td>\n",
       "    </tr>\n",
       "    <tr>\n",
       "      <th>1</th>\n",
       "      <td>20.57</td>\n",
       "      <td>17.77</td>\n",
       "      <td>132.90</td>\n",
       "      <td>1326.0</td>\n",
       "      <td>0.08474</td>\n",
       "      <td>0.07864</td>\n",
       "      <td>0.0869</td>\n",
       "      <td>0.07017</td>\n",
       "      <td>0.1812</td>\n",
       "      <td>0.05667</td>\n",
       "      <td>...</td>\n",
       "      <td>24.99</td>\n",
       "      <td>23.41</td>\n",
       "      <td>158.80</td>\n",
       "      <td>1956.0</td>\n",
       "      <td>0.1238</td>\n",
       "      <td>0.1866</td>\n",
       "      <td>0.2416</td>\n",
       "      <td>0.1860</td>\n",
       "      <td>0.2750</td>\n",
       "      <td>0.08902</td>\n",
       "    </tr>\n",
       "    <tr>\n",
       "      <th>2</th>\n",
       "      <td>19.69</td>\n",
       "      <td>21.25</td>\n",
       "      <td>130.00</td>\n",
       "      <td>1203.0</td>\n",
       "      <td>0.10960</td>\n",
       "      <td>0.15990</td>\n",
       "      <td>0.1974</td>\n",
       "      <td>0.12790</td>\n",
       "      <td>0.2069</td>\n",
       "      <td>0.05999</td>\n",
       "      <td>...</td>\n",
       "      <td>23.57</td>\n",
       "      <td>25.53</td>\n",
       "      <td>152.50</td>\n",
       "      <td>1709.0</td>\n",
       "      <td>0.1444</td>\n",
       "      <td>0.4245</td>\n",
       "      <td>0.4504</td>\n",
       "      <td>0.2430</td>\n",
       "      <td>0.3613</td>\n",
       "      <td>0.08758</td>\n",
       "    </tr>\n",
       "    <tr>\n",
       "      <th>3</th>\n",
       "      <td>11.42</td>\n",
       "      <td>20.38</td>\n",
       "      <td>77.58</td>\n",
       "      <td>386.1</td>\n",
       "      <td>0.14250</td>\n",
       "      <td>0.28390</td>\n",
       "      <td>0.2414</td>\n",
       "      <td>0.10520</td>\n",
       "      <td>0.2597</td>\n",
       "      <td>0.09744</td>\n",
       "      <td>...</td>\n",
       "      <td>14.91</td>\n",
       "      <td>26.50</td>\n",
       "      <td>98.87</td>\n",
       "      <td>567.7</td>\n",
       "      <td>0.2098</td>\n",
       "      <td>0.8663</td>\n",
       "      <td>0.6869</td>\n",
       "      <td>0.2575</td>\n",
       "      <td>0.6638</td>\n",
       "      <td>0.17300</td>\n",
       "    </tr>\n",
       "    <tr>\n",
       "      <th>4</th>\n",
       "      <td>20.29</td>\n",
       "      <td>14.34</td>\n",
       "      <td>135.10</td>\n",
       "      <td>1297.0</td>\n",
       "      <td>0.10030</td>\n",
       "      <td>0.13280</td>\n",
       "      <td>0.1980</td>\n",
       "      <td>0.10430</td>\n",
       "      <td>0.1809</td>\n",
       "      <td>0.05883</td>\n",
       "      <td>...</td>\n",
       "      <td>22.54</td>\n",
       "      <td>16.67</td>\n",
       "      <td>152.20</td>\n",
       "      <td>1575.0</td>\n",
       "      <td>0.1374</td>\n",
       "      <td>0.2050</td>\n",
       "      <td>0.4000</td>\n",
       "      <td>0.1625</td>\n",
       "      <td>0.2364</td>\n",
       "      <td>0.07678</td>\n",
       "    </tr>\n",
       "  </tbody>\n",
       "</table>\n",
       "<p>5 rows × 30 columns</p>\n",
       "</div>"
      ],
      "text/plain": [
       "   mean radius  mean texture  mean perimeter  mean area  mean smoothness  \\\n",
       "0        17.99         10.38          122.80     1001.0          0.11840   \n",
       "1        20.57         17.77          132.90     1326.0          0.08474   \n",
       "2        19.69         21.25          130.00     1203.0          0.10960   \n",
       "3        11.42         20.38           77.58      386.1          0.14250   \n",
       "4        20.29         14.34          135.10     1297.0          0.10030   \n",
       "\n",
       "   mean compactness  mean concavity  mean concave points  mean symmetry  \\\n",
       "0           0.27760          0.3001              0.14710         0.2419   \n",
       "1           0.07864          0.0869              0.07017         0.1812   \n",
       "2           0.15990          0.1974              0.12790         0.2069   \n",
       "3           0.28390          0.2414              0.10520         0.2597   \n",
       "4           0.13280          0.1980              0.10430         0.1809   \n",
       "\n",
       "   mean fractal dimension           ...             worst radius  \\\n",
       "0                 0.07871           ...                    25.38   \n",
       "1                 0.05667           ...                    24.99   \n",
       "2                 0.05999           ...                    23.57   \n",
       "3                 0.09744           ...                    14.91   \n",
       "4                 0.05883           ...                    22.54   \n",
       "\n",
       "   worst texture  worst perimeter  worst area  worst smoothness  \\\n",
       "0          17.33           184.60      2019.0            0.1622   \n",
       "1          23.41           158.80      1956.0            0.1238   \n",
       "2          25.53           152.50      1709.0            0.1444   \n",
       "3          26.50            98.87       567.7            0.2098   \n",
       "4          16.67           152.20      1575.0            0.1374   \n",
       "\n",
       "   worst compactness  worst concavity  worst concave points  worst symmetry  \\\n",
       "0             0.6656           0.7119                0.2654          0.4601   \n",
       "1             0.1866           0.2416                0.1860          0.2750   \n",
       "2             0.4245           0.4504                0.2430          0.3613   \n",
       "3             0.8663           0.6869                0.2575          0.6638   \n",
       "4             0.2050           0.4000                0.1625          0.2364   \n",
       "\n",
       "   worst fractal dimension  \n",
       "0                  0.11890  \n",
       "1                  0.08902  \n",
       "2                  0.08758  \n",
       "3                  0.17300  \n",
       "4                  0.07678  \n",
       "\n",
       "[5 rows x 30 columns]"
      ]
     },
     "execution_count": 7,
     "metadata": {},
     "output_type": "execute_result"
    }
   ],
   "source": [
    "df = pd.DataFrame(dat.data, columns=dat.feature_names)\n",
    "df.head()"
   ]
  },
  {
   "cell_type": "code",
   "execution_count": 8,
   "metadata": {},
   "outputs": [
    {
     "name": "stdout",
     "output_type": "stream",
     "text": [
      "3\n",
      "7\n"
     ]
    }
   ],
   "source": [
    "# we will use two features: 'mean area' and 'mean concave points'\n",
    "ix1 = np.where(dat[\"feature_names\"] == \"mean area\")[0][0]\n",
    "ix2 = np.where(dat[\"feature_names\"] == \"mean concave points\")[0][0]\n",
    "print(ix1)\n",
    "print(ix2)"
   ]
  },
  {
   "cell_type": "code",
   "execution_count": 9,
   "metadata": {},
   "outputs": [],
   "source": [
    "import matplotlib.pyplot as plt\n",
    "def plot_cells():    \n",
    "    plt.scatter(dat[\"data\"][:,ix1][dat[\"target\"]==1], dat[\"data\"][:,ix2][dat[\"target\"]==1], marker='x', color='C0')\n",
    "    plt.scatter(dat[\"data\"][:,ix1][dat[\"target\"]==0], dat[\"data\"][:,ix2][dat[\"target\"]==0], marker='+', color='C3')\n",
    "    plt.xlim([0,2600])\n",
    "    plt.ylim([0,0.21])\n",
    "    plt.xlabel(\"Mean Area\")\n",
    "    plt.ylabel(\"Mean Concave Points\")\n",
    "    plt.legend(['Benign', 'Malignant'])\n",
    "plot_cells()"
   ]
  },
  {
   "cell_type": "code",
   "execution_count": 10,
   "metadata": {},
   "outputs": [
    {
     "name": "stdout",
     "output_type": "stream",
     "text": [
      "(569, 2) (569,)\n",
      "Number of points: 569\n",
      "range (min, max), X1: (143.50, 2501.00), X2: (0.00, 0.20)\n",
      "mean: 654.89, 0.05\n",
      "variance: 123843.55, 0.001506\n",
      "(array([143.5,   0. ]), array([2.501e+03, 2.012e-01]))\n",
      "Number of points: 569\n",
      "range (min, max), X1: (0.00, 1.00), X2: (0.00, 1.00)\n",
      "mean: 0.22, 0.24\n",
      "variance: 0.02, 0.037194\n"
     ]
    }
   ],
   "source": [
    "X = dat[\"data\"][:,(ix1,ix2)]\n",
    "Y = dat[\"target\"]\n",
    "\n",
    "# verify shape of X and Y\n",
    "print(X.shape, Y.shape)\n",
    "\n",
    "# stats of the two features\n",
    "from scipy import stats\n",
    "st = stats.describe(X)\n",
    "print(\"Number of points: %i\" % st.nobs)\n",
    "print(\"range (min, max), X1: (%.2f, %.2f), X2: (%.2f, %.2f)\" % (st.minmax[0][0], st.minmax[1][0], st.minmax[0][1], st.minmax[1][1]))\n",
    "print(\"mean: %.2f, %.2f\" % (st.mean[0], st.mean[1]))\n",
    "print(\"variance: %.2f, %f\" % (st.variance[0], st.variance[1]))\n",
    "# Given the stats, is it a good idea to normalize the features?\n",
    "#yes. We have to normalize.For given  features mean area and  mean concave points x=[2501.00,0.20]\n",
    "#is skewed towards (mean area). so we should normalize.\n",
    "# add code to normalize features\n",
    "def normalizeData(X, normalize_cols):\n",
    "    \"\"\" Normalize specified columns of X to range [0,1] in place. \"\"\"\n",
    "    min_X = X[:,normalize_cols].min(axis=0)\n",
    "    max_X = X[:,normalize_cols].max(axis=0)\n",
    "    X[:,normalize_cols] = (X[:,normalize_cols] - min_X) / (max_X - min_X)\n",
    "    return min_X, max_X\n",
    "ranges = normalizeData(X, [True, True])\n",
    "\n",
    "print(ranges)\n",
    "st = stats.describe(X)\n",
    "print(\"Number of points: %i\" % st.nobs)\n",
    "print(\"range (min, max), X1: (%.2f, %.2f), X2: (%.2f, %.2f)\" % (st.minmax[0][0], st.minmax[1][0], st.minmax[0][1], st.minmax[1][1]))\n",
    "print(\"mean: %.2f, %.2f\" % (st.mean[0], st.mean[1]))\n",
    "print(\"variance: %.2f, %f\" % (st.variance[0], st.variance[1]))"
   ]
  },
  {
   "cell_type": "code",
   "execution_count": 11,
   "metadata": {},
   "outputs": [
    {
     "name": "stdout",
     "output_type": "stream",
     "text": [
      "(398, 2) (398,) (171, 2) (171,)\n"
     ]
    }
   ],
   "source": [
    "# split into training set / test set\n",
    "#\n",
    "# usually you would do the split randomly; here for deterministic results, we assume the data \n",
    "# points are already shuffled and take the first 70% as training and the rest as test\n",
    "#\n",
    "nTot = X.shape[0]\n",
    "nTr = int(nTot*0.7)\n",
    "nTs = nTot - nTr\n",
    "\n",
    "Xtr = X[0:nTr,]\n",
    "Ytr = Y[0:nTr]\n",
    "\n",
    "Xts = X[nTr:nTot,]\n",
    "Yts = Y[nTr:nTot,]\n",
    "\n",
    "# verify shapes\n",
    "print(Xtr.shape, Ytr.shape, Xts.shape, Yts.shape)"
   ]
  },
  {
   "cell_type": "code",
   "execution_count": 12,
   "metadata": {},
   "outputs": [
    {
     "data": {
      "text/plain": [
       "(171,)"
      ]
     },
     "execution_count": 12,
     "metadata": {},
     "output_type": "execute_result"
    }
   ],
   "source": [
    "Yts.shape"
   ]
  },
  {
   "cell_type": "markdown",
   "metadata": {},
   "source": [
    "## k-NN Implementation"
   ]
  },
  {
   "cell_type": "code",
   "execution_count": 13,
   "metadata": {},
   "outputs": [],
   "source": [
    "# Implement the following functions for k-NN\n",
    "# input: Xtr - training examples input features, size nXd\n",
    "#        Ytr - label (can assume to be binary 0/1), size nX1\n",
    "#        Xts - test examples input features, for which labels (Yts) \n",
    "#              need to be predicted, size mXd\n",
    "#        k   - k for the k-NN algo \n",
    "#\n",
    "# output: Yts - 0/1 labes for Xts, size mX1\n",
    "#\n",
    "#  This function predicts the binary labels for Xts, given the training\n",
    "#  data Xtr, Ytr and k, using the k-NN algorithm\n",
    "#\n",
    "def knn_predict(Xtr, Ytr, Xts, k):\n",
    "    # compute in two steps\n",
    "    \n",
    "    # step 1: compute dist matrix between Xts and Xtr\n",
    "    #\n",
    "    dist = compute_dist_mat(Xts, Xtr)\n",
    "    #dist.shape=171x398\n",
    "    #print(dist.shape)\n",
    "    # step 2: use the dist matrix and use k-nn to find labels for Xts \n",
    "    # hint: function numpy.argsort may be useful\n",
    "    # in case of a tie, pick a class randomly\n",
    "    \n",
    "    # YOUR CODE HERE\n",
    "    testShape = dist.shape[0]\n",
    "    #testShape=171\n",
    "    #print(testShape)\n",
    "    yPrediction = np.zeros(testShape)\n",
    "    for i in range(testShape):\n",
    "        K_closest_y_5 = []\n",
    "        #dist[i].shape=398\n",
    "        #print(dist[i].shape)\n",
    "        closestIndex_5 = np.argsort(dist[i])[:k]\n",
    "        #closestIndex_5.shape=5\n",
    "        #print(closestIndex_5.shape)\n",
    "        K_closest_y_5 = Ytr[closestIndex_5]\n",
    "        #print(K_closest_y_5)\n",
    "        #bincount Count number of occurrences of each value in array\n",
    "        #print(np.bincount(K_closest_y_5))\n",
    "        #np.argmax Returns the indices of the maximum values along an axis\n",
    "        yPrediction[i] = np.argmax(np.bincount(K_closest_y_5))\n",
    "        #yPrediction.shape=171\n",
    "    #print(yPrediction)\n",
    "    return(yPrediction)\n",
    "\n",
    "#  compute_dist_mat(Xts, Xtr)\n",
    "#\n",
    "#  input: Xts - test examples, size mXd\n",
    "#         Xtr - training examples, size nXd\n",
    "#  output: L2 distance matrix mXn\n",
    "#\n",
    "#   if Xts is mXd, and Xtr is nXd, this function returns a matrix of size mXn with the L2 distances; the (i,j) \n",
    "#     entry of the matrix is the L2 distance between ith test and jth training example \n",
    "#\n",
    "def compute_dist_mat(Xts, Xtr):\n",
    "    # use two for loops to compute the matrix\n",
    "    # YOUR CODE HERE\n",
    "    testShape = Xts.shape[0]\n",
    "    trainShape = Xtr.shape[0]\n",
    "    dist = np.zeros((testShape, trainShape))\n",
    "    for i in range(testShape):\n",
    "        for j in range(trainShape):\n",
    "            dist[i, j] = np.sqrt(np.sum((Xts[i]-Xtr[j])**2))\n",
    "    #print(dist.shape)        \n",
    "    return(dist)"
   ]
  },
  {
   "cell_type": "markdown",
   "metadata": {},
   "source": [
    "Problem 1 (30 points): Fill-in code for normalizing features, and the above two functions to implement k-NN."
   ]
  },
  {
   "cell_type": "markdown",
   "metadata": {},
   "source": [
    "Problem 2 (20 points): Run your k-NN implementation on the test data set. Use k=5. Compute accuracy, recall and precision of the test data set (do not use python library functions to compute these). "
   ]
  },
  {
   "cell_type": "code",
   "execution_count": 14,
   "metadata": {},
   "outputs": [
    {
     "name": "stdout",
     "output_type": "stream",
     "text": [
      "[1. 1. 0. 1. 1. 1. 1. 1. 0. 1. 0. 1. 1. 1. 1. 1. 0. 1. 1. 0. 1. 1. 1. 0.\n",
      " 1. 1. 1. 1. 1. 1. 1. 1. 0. 1. 0. 0. 1. 0. 1. 1. 1. 1. 1. 0. 1. 1. 0. 1.\n",
      " 0. 1. 1. 0. 1. 0. 1. 0. 1. 1. 1. 1. 1. 1. 0. 0. 1. 1. 1. 1. 1. 1. 0. 1.\n",
      " 1. 1. 0. 1. 1. 1. 1. 1. 1. 0. 1. 1. 0. 1. 0. 0. 1. 0. 1. 0. 1. 0. 0. 1.\n",
      " 1. 0. 0. 1. 0. 0. 0. 0. 1. 0. 1. 1. 1. 1. 0. 0. 1. 1. 0. 1. 1. 1. 0. 0.\n",
      " 1. 1. 1. 0. 1. 1. 1. 1. 1. 1. 0. 1. 1. 1. 1. 0. 1. 0. 0. 1. 1. 1. 1. 1.\n",
      " 0. 1. 1. 1. 1. 1. 1. 1. 1. 1. 1. 1. 1. 1. 1. 1. 1. 1. 1. 1. 0. 0. 0. 0.\n",
      " 0. 0. 1.]\n",
      "156 171 0.9122807017543859\n",
      "accuracy is 91.228070 percenatge\n"
     ]
    }
   ],
   "source": [
    "# problem 2 solution:(TP + TN)/float(TP + TN + FP + FN))=156/171\n",
    "#tp=118,tn=38,fp=1,fn=14\n",
    "from sklearn import metrics\n",
    "yprediction=knn_predict(Xtr, Ytr, Xts,k=5)\n",
    "print(yprediction)\n",
    "#accuracy=0.9122\n",
    "#print(metrics.accuracy_score(Yts, yprediction))\n",
    "test_shape=Xts.shape[0]\n",
    "correct = np.sum(yprediction == Yts)\n",
    "accuracy = float(correct)/test_shape\n",
    "print(correct,test_shape, accuracy)\n",
    "print(\"accuracy is %f percenatge\"%(accuracy*100))"
   ]
  },
  {
   "cell_type": "code",
   "execution_count": 15,
   "metadata": {},
   "outputs": [
    {
     "name": "stdout",
     "output_type": "stream",
     "text": [
      "118\n",
      "38\n",
      "1\n",
      "14\n"
     ]
    }
   ],
   "source": [
    "TP=np.sum([(yprediction==1) & (1==Yts)])\n",
    "print(TP)\n",
    "TN=np.sum([(yprediction==0) & (0==Yts)])\n",
    "print(TN)\n",
    "FP=np.sum([(yprediction==1) & (0==Yts)])\n",
    "print(FP)\n",
    "FN=np.sum([(yprediction==0) & (1==Yts)])\n",
    "print(FN)"
   ]
  },
  {
   "cell_type": "code",
   "execution_count": 16,
   "metadata": {},
   "outputs": [
    {
     "name": "stdout",
     "output_type": "stream",
     "text": [
      "0.8939393939393939\n",
      "recall is 89.393939 percenatge\n"
     ]
    }
   ],
   "source": [
    "# problem 2 solution-recall=TP/(TP + FN)=118/118+14=0.8939\n",
    "#print(metrics.recall_score(Yts, yprediction))\n",
    "print(TP/float(TP + FN))\n",
    "print(\"recall is %f percenatge\"%((TP/float(TP + FN))*100))"
   ]
  },
  {
   "cell_type": "code",
   "execution_count": 17,
   "metadata": {},
   "outputs": [
    {
     "name": "stdout",
     "output_type": "stream",
     "text": [
      "0.9915966386554622\n",
      "precision is 99.159664 percenatge\n"
     ]
    }
   ],
   "source": [
    "# problem 2 solution-precision=TP /(TP + FP)=0.9915\n",
    "#print(metrics.confusion_matrix(Yts, yprediction))\n",
    "#print(metrics.precision_score(Yts, yprediction))\n",
    "print(TP /float(TP + FP))\n",
    "print(\"precision is %f percenatge\"%((TP /float(TP + FP))*100))"
   ]
  },
  {
   "cell_type": "markdown",
   "metadata": {},
   "source": [
    "## Cross-Validation\n",
    "\n",
    "Priblem 3 (30 points): Now we will implement 5-fold cross-validation to find the best value of $k$. And then using that value of $k$, re-run k-NN on the test data set. (This is adapted from a past Stanford cs231n assignment)"
   ]
  },
  {
   "cell_type": "code",
   "execution_count": 18,
   "metadata": {},
   "outputs": [
    {
     "name": "stdout",
     "output_type": "stream",
     "text": [
      "k = 1, accuracy = 0.787500\n",
      "k = 1, accuracy = 0.787500\n",
      "k = 1, accuracy = 0.875000\n",
      "k = 1, accuracy = 0.873418\n",
      "k = 1, accuracy = 0.898734\n",
      "mean , k=1 is 0.844430\n",
      "k = 3, accuracy = 0.787500\n",
      "k = 3, accuracy = 0.812500\n",
      "k = 3, accuracy = 0.887500\n",
      "k = 3, accuracy = 0.911392\n",
      "k = 3, accuracy = 0.886076\n",
      "mean , k=3 is 0.856994\n",
      "k = 5, accuracy = 0.825000\n",
      "k = 5, accuracy = 0.837500\n",
      "k = 5, accuracy = 0.900000\n",
      "k = 5, accuracy = 0.936709\n",
      "k = 5, accuracy = 0.911392\n",
      "mean , k=5 is 0.882120\n",
      "k = 7, accuracy = 0.837500\n",
      "k = 7, accuracy = 0.837500\n",
      "k = 7, accuracy = 0.875000\n",
      "k = 7, accuracy = 0.949367\n",
      "k = 7, accuracy = 0.924051\n",
      "mean , k=7 is 0.884684\n",
      "k = 9, accuracy = 0.850000\n",
      "k = 9, accuracy = 0.837500\n",
      "k = 9, accuracy = 0.900000\n",
      "k = 9, accuracy = 0.924051\n",
      "k = 9, accuracy = 0.936709\n",
      "mean , k=9 is 0.889652\n",
      "k = 11, accuracy = 0.850000\n",
      "k = 11, accuracy = 0.825000\n",
      "k = 11, accuracy = 0.912500\n",
      "k = 11, accuracy = 0.924051\n",
      "k = 11, accuracy = 0.936709\n",
      "mean , k=11 is 0.889652\n",
      "k = 13, accuracy = 0.887500\n",
      "k = 13, accuracy = 0.825000\n",
      "k = 13, accuracy = 0.912500\n",
      "k = 13, accuracy = 0.924051\n",
      "k = 13, accuracy = 0.911392\n",
      "mean , k=13 is 0.892089\n",
      "k = 15, accuracy = 0.875000\n",
      "k = 15, accuracy = 0.837500\n",
      "k = 15, accuracy = 0.925000\n",
      "k = 15, accuracy = 0.924051\n",
      "k = 15, accuracy = 0.911392\n",
      "mean , k=15 is 0.894589\n",
      "k = 20, accuracy = 0.862500\n",
      "k = 20, accuracy = 0.850000\n",
      "k = 20, accuracy = 0.925000\n",
      "k = 20, accuracy = 0.911392\n",
      "k = 20, accuracy = 0.924051\n",
      "mean , k=20 is 0.894589\n",
      "k = 30, accuracy = 0.850000\n",
      "k = 30, accuracy = 0.837500\n",
      "k = 30, accuracy = 0.950000\n",
      "k = 30, accuracy = 0.936709\n",
      "k = 30, accuracy = 0.936709\n",
      "mean , k=30 is 0.902184\n",
      "k = 40, accuracy = 0.825000\n",
      "k = 40, accuracy = 0.850000\n",
      "k = 40, accuracy = 0.937500\n",
      "k = 40, accuracy = 0.924051\n",
      "k = 40, accuracy = 0.949367\n",
      "mean , k=40 is 0.897184\n",
      "k = 50, accuracy = 0.825000\n",
      "k = 50, accuracy = 0.837500\n",
      "k = 50, accuracy = 0.937500\n",
      "k = 50, accuracy = 0.924051\n",
      "k = 50, accuracy = 0.974684\n",
      "mean , k=50 is 0.899747\n",
      "k = 75, accuracy = 0.825000\n",
      "k = 75, accuracy = 0.850000\n",
      "k = 75, accuracy = 0.937500\n",
      "k = 75, accuracy = 0.924051\n",
      "k = 75, accuracy = 0.962025\n",
      "mean , k=75 is 0.899715\n",
      "k = 100, accuracy = 0.800000\n",
      "k = 100, accuracy = 0.862500\n",
      "k = 100, accuracy = 0.925000\n",
      "k = 100, accuracy = 0.924051\n",
      "k = 100, accuracy = 0.962025\n",
      "mean , k=100 is 0.894715\n"
     ]
    }
   ],
   "source": [
    "num_folds = 5\n",
    "k_choices = [1, 3, 5, 7, 9, 11, 13, 15, 20, 30, 40, 50, 75, 100]\n",
    "\n",
    "Xtrfolds = []\n",
    "Ytrfolds = []\n",
    "################################################################################\n",
    "# TODO:                                                                        #\n",
    "# Split up the training data into folds. After splitting, X_train_folds and    #\n",
    "# y_train_folds should each be lists of length num_folds, where                #\n",
    "# y_train_folds[i] is the label vector for the points in X_train_folds[i].     #\n",
    "# Hint: Look up the numpy array_split function.                                #\n",
    "################################################################################\n",
    "#np.array_split: Split array into multiple sub-arrays size=num_folds=5.\n",
    "Xtrfolds = np.array_split(Xtr, num_folds)\n",
    "Ytrfolds = np.array_split(Ytr, num_folds)\n",
    "#Ytrfolds.shape=5,\n",
    "#print(Ytrfolds.shape)\n",
    "################################################################################\n",
    "#                                 END OF YOUR CODE                             #\n",
    "################################################################################\n",
    "\n",
    "# A dictionary holding the accuracies for different values of k that we find\n",
    "# when running cross-validation. After running cross-validation,\n",
    "# k_to_accuracies[k] should be a list of length num_folds giving the different\n",
    "# accuracy values that we found when using that value of k.\n",
    "k_to_accuracies = {}\n",
    "\n",
    "#create empty list for all k choices\n",
    "for k in k_choices:\n",
    "    k_to_accuracies[k] = []\n",
    "\n",
    "\n",
    "################################################################################\n",
    "# TODO:                                                                        #\n",
    "# Perform k-fold cross validation to find the best value of k. For each        #\n",
    "# possible value of k, run the k-nearest-neighbor algorithm num_folds times,   #\n",
    "# where in each case you use all but one of the folds as training data and the #\n",
    "# last fold as a validation set. Store the accuracies for all fold and all     #\n",
    "# values of k in the k_to_accuracies dictionary.                               #\n",
    "################################################################################\n",
    "for k in k_choices:\n",
    "    for i in range(num_folds):\n",
    "        #Use fold 1 as the testing set and the union of the other folds as the training set.\n",
    "        #np.vstack : Stack arrays in sequence vertically (row wise)\n",
    "        Xtr_cv = np.vstack(Xtrfolds[0:i]+Xtrfolds[i+1:])\n",
    "        #print(Xtr_cv)\n",
    "        #np.hstack:Stack arrays in sequence horizontally (column wise).\n",
    "        Ytr_cv = np.hstack(Ytrfolds[0:i] + Ytrfolds[i+1:])\n",
    "        \n",
    "        #test set\n",
    "        Xts_cv = Xtrfolds[i]\n",
    "        #print(Xts_cv.shape)\n",
    "        Yts_cv = Ytrfolds[i]\n",
    "        #call knn predict \n",
    "        yprediction_cv=knn_predict(Xtr_cv, Ytr_cv, Xts_cv,k)\n",
    "        #yprediction_cv\n",
    "        \n",
    "        #accuracy for each CV fold\n",
    "        correct_cv = np.sum(Yts_cv == yprediction_cv)\n",
    "        accuracy_cv = (float)(correct_cv)/Yts_cv.shape[0]\n",
    "        k_to_accuracies[k].append(accuracy_cv)  \n",
    "        \n",
    "################################################################################\n",
    "#                                 END OF YOUR CODE                             #\n",
    "################################################################################\n",
    "\n",
    "# Print out the computed accuracies\n",
    "for k in sorted(k_to_accuracies):\n",
    "    for accuracy in k_to_accuracies[k]:\n",
    "        print('k = %d, accuracy = %f' % (k, accuracy))\n",
    "    print('mean , k=%d is %f' % (k, np.mean(k_to_accuracies[k])))"
   ]
  },
  {
   "cell_type": "code",
   "execution_count": 19,
   "metadata": {},
   "outputs": [
    {
     "data": {
      "image/png": "[encoded data removed]",
      "text/plain": [
       "<matplotlib.figure.Figure at 0x1a1f145898>"
      ]
     },
     "metadata": {},
     "output_type": "display_data"
    }
   ],
   "source": [
    "# plot the raw observations\n",
    "for k in k_choices:\n",
    "    accuracies = k_to_accuracies[k]\n",
    "    plt.scatter([k] * len(accuracies), accuracies)\n",
    "\n",
    "# plot the trend line with error bars that correspond to standard deviation\n",
    "accuracies_mean = np.array([np.mean(v) for k,v in sorted(k_to_accuracies.items())])\n",
    "accuracies_std = np.array([np.std(v) for k,v in sorted(k_to_accuracies.items())])\n",
    "plt.errorbar(k_choices, accuracies_mean, yerr=accuracies_std)\n",
    "plt.title('Cross-validation on k')\n",
    "plt.xlabel('k')\n",
    "plt.ylabel('Cross-validation accuracy')\n",
    "plt.show()"
   ]
  },
  {
   "cell_type": "code",
   "execution_count": 20,
   "metadata": {},
   "outputs": [
    {
     "name": "stdout",
     "output_type": "stream",
     "text": [
      "0.9021835443037975\n"
     ]
    }
   ],
   "source": [
    "#k = 30, accuracy = 0.9021(taking average)\n",
    "accuracies_mean = np.array([np.mean(v) for k,v in sorted(k_to_accuracies.items())])\n",
    "print(accuracies_mean.max())"
   ]
  },
  {
   "cell_type": "markdown",
   "metadata": {},
   "source": [
    "Problem 4 (20 points): Based on the cross-validation results above, choose the best value for $k$. Repeat problem 2 with this $k$ (using the entire training data set)."
   ]
  },
  {
   "cell_type": "code",
   "execution_count": 21,
   "metadata": {},
   "outputs": [
    {
     "name": "stdout",
     "output_type": "stream",
     "text": [
      "157 171 0.9181286549707602\n"
     ]
    }
   ],
   "source": [
    "#problem 4 solution-accuracy\n",
    "#mean for k=5 is 0.882120\n",
    "#mean for k=15 is 0.894589\n",
    "#mean for k=30 is 0.902184\n",
    "#best_value_K=30\n",
    "yprediction_best_k=knn_predict(Xtr, Ytr, Xts,k=30)\n",
    "\n",
    "#print(metrics.accuracy_score(Yts, yprediction))\n",
    "test_shape=Xts.shape[0]\n",
    "correct = np.sum(yprediction_best_k == Yts)\n",
    "accuracy = float(correct)/test_shape\n",
    "print(correct, test_shape, accuracy)"
   ]
  },
  {
   "cell_type": "code",
   "execution_count": 22,
   "metadata": {},
   "outputs": [
    {
     "name": "stdout",
     "output_type": "stream",
     "text": [
      "121\n",
      "36\n",
      "3\n",
      "11\n"
     ]
    }
   ],
   "source": [
    "TP1=np.sum([(yprediction_best_k==1) & (1==Yts)])\n",
    "print(TP1)\n",
    "TN1=np.sum([(yprediction_best_k==0) & (0==Yts)])\n",
    "print(TN1)\n",
    "FP1=np.sum([(yprediction_best_k==1) & (0==Yts)])\n",
    "print(FP1)\n",
    "FN1=np.sum([(yprediction_best_k==0) & (1==Yts)])\n",
    "print(FN1)"
   ]
  },
  {
   "cell_type": "code",
   "execution_count": 23,
   "metadata": {},
   "outputs": [
    {
     "name": "stdout",
     "output_type": "stream",
     "text": [
      "0.9166666666666666\n",
      "recall is 91.666667 percenatge\n"
     ]
    }
   ],
   "source": [
    "# problem 4 solution-recall=TP/(TP + FN)\n",
    "#print(metrics.recall_score(Yts, yprediction))\n",
    "print(TP1/float(TP1 + FN1))\n",
    "print(\"recall is %f percenatge\"%((TP1/float(TP1 + FN1))*100))"
   ]
  },
  {
   "cell_type": "code",
   "execution_count": 24,
   "metadata": {},
   "outputs": [
    {
     "name": "stdout",
     "output_type": "stream",
     "text": [
      "0.9758064516129032\n",
      "precision is 97.580645 percenatge\n"
     ]
    }
   ],
   "source": [
    "# problem 4 solution-precision=TP /(TP + FP)\n",
    "print(TP1 /float(TP1 + FP1))\n",
    "print(\"precision is %f percenatge\"%((TP1 /float(TP1 + FP1))*100))"
   ]
  },
  {
   "cell_type": "markdown",
   "metadata": {},
   "source": [
    "Note: these extra credit problems are optional and only increase your score marginally. \n",
    "\n",
    "Extra Credit Problem 1 (5 points): Plot decision boundaries for the best $k$, similar to how it is done here:\n",
    "http://scikit-learn.org/stable/auto_examples/neighbors/plot_classification.html\n",
    "\n",
    "Extra Credit Problem 2 (5 points): In problem 1 above, re-write the compute_dist_mat() function with no loops. That may seem non-intuitive, but it is possible to compute the L2 distances using matrix operations (matrix multiplication, addition, etc.) without explicitly doing the double for loop. The advantage of using matrix operations is that they are highly optimized and enable \"vectorization\", and for such computations can give 10-100x speed improvements."
   ]
  },
  {
   "cell_type": "code",
   "execution_count": 25,
   "metadata": {},
   "outputs": [],
   "source": [
    "#Extra Credit Problem 2\n",
    "#(a-b)**2=a**2+b**2-2*a*b\n",
    "def compute_dist_mat_extraCredit(Xts, Xtr):\n",
    "    XtsSSqr= np.sum(np.square(Xts),axis=1);\n",
    "    XtrSSqr = np.sum(np.square(Xtr),axis=1);\n",
    "    mul = np.dot(Xts,Xtr.T);\n",
    "    distance = np.sqrt(XtsSSqr[:,np.newaxis]+XtrSSqr-2*mul)\n",
    "    return(distance)"
   ]
  }
 ],
 "metadata": {
  "kernelspec": {
   "display_name": "Python 3",
   "language": "python",
   "name": "python3"
  },
  "language_info": {
   "codemirror_mode": {
    "name": "ipython",
    "version": 3
   },
   "file_extension": ".py",
   "mimetype": "text/x-python",
   "name": "python",
   "nbconvert_exporter": "python",
   "pygments_lexer": "ipython3",
   "version": "3.6.4"
  }
 },
 "nbformat": 4,
 "nbformat_minor": 2
}
